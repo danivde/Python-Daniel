{
 "cells": [
  {
   "cell_type": "code",
   "execution_count": 1,
   "id": "a9d26c3a-e052-405f-97bb-0931eeac1e4d",
   "metadata": {},
   "outputs": [
    {
     "name": "stdout",
     "output_type": "stream",
     "text": [
      "hola\n"
     ]
    }
   ],
   "source": [
    "print (\"hola\")\n"
   ]
  },
  {
   "cell_type": "code",
   "execution_count": null,
   "id": "713c8a5d-8d09-40a0-9ea9-17ba01f3a550",
   "metadata": {},
   "outputs": [],
   "source": []
  }
 ],
 "metadata": {
  "kernelspec": {
   "display_name": "Python 3 (ipykernel)",
   "language": "python",
   "name": "python3"
  },
  "language_info": {
   "codemirror_mode": {
    "name": "ipython",
    "version": 3
   },
   "file_extension": ".py",
   "mimetype": "text/x-python",
   "name": "python",
   "nbconvert_exporter": "python",
   "pygments_lexer": "ipython3",
   "version": "3.12.0"
  }
 },
 "nbformat": 4,
 "nbformat_minor": 5
}
